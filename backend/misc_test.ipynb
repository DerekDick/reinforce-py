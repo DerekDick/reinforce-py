{
 "cells": [
  {
   "cell_type": "code",
   "execution_count": 1,
   "metadata": {},
   "outputs": [],
   "source": [
    "# For inline plotting\n",
    "%matplotlib inline\n",
    "\n",
    "# For auto reloading\n",
    "%load_ext autoreload\n",
    "%autoreload 2"
   ]
  },
  {
   "cell_type": "code",
   "execution_count": 2,
   "metadata": {},
   "outputs": [
    {
     "name": "stdout",
     "output_type": "stream",
     "text": [
      "[1. 0. 2. 0.]\n",
      "[1. 2.]\n"
     ]
    }
   ],
   "source": [
    "import numpy as np\n",
    "\n",
    "\n",
    "a = np.zeros((5, 4), dtype=float)\n",
    "a[0][0] = 1\n",
    "a[0][2] = 2\n",
    "print(a[0])\n",
    "print(a[0][[0, 2]])\n"
   ]
  },
  {
   "cell_type": "code",
   "execution_count": 12,
   "metadata": {},
   "outputs": [
    {
     "name": "stdout",
     "output_type": "stream",
     "text": [
      "Max i for math.exp: 710\n"
     ]
    }
   ],
   "source": [
    "import math\n",
    "\n",
    "\n",
    "for i in range(100000):\n",
    "    try:\n",
    "        math.exp(i)\n",
    "    except OverflowError:\n",
    "        print(\"Max i for math.exp: {:d}\".format(i))\n",
    "        break\n"
   ]
  },
  {
   "cell_type": "code",
   "execution_count": 14,
   "metadata": {},
   "outputs": [
    {
     "name": "stdout",
     "output_type": "stream",
     "text": [
      "[[1.75 1.   1.  ]\n",
      " [1.   2.   3.  ]]\n"
     ]
    }
   ],
   "source": [
    "import numpy as np\n",
    "\n",
    "a = np.array([\n",
    "    [[1, 1, 1],\n",
    "     [1, 2, 3]],\n",
    "    [[2, 1, 1],\n",
    "     [1, 2, 3]],\n",
    "    [[2, 1, 1],\n",
    "     [1, 2, 3]],\n",
    "    [[2, 1, 1],\n",
    "     [1, 2, 3]]\n",
    "])\n",
    "\n",
    "print(np.mean(a, axis=0, dtype=np.float64))\n"
   ]
  },
  {
   "cell_type": "code",
   "execution_count": null,
   "metadata": {},
   "outputs": [],
   "source": []
  }
 ],
 "metadata": {
  "kernelspec": {
   "display_name": "Python 3",
   "language": "python",
   "name": "python3"
  },
  "language_info": {
   "codemirror_mode": {
    "name": "ipython",
    "version": 3
   },
   "file_extension": ".py",
   "mimetype": "text/x-python",
   "name": "python",
   "nbconvert_exporter": "python",
   "pygments_lexer": "ipython3",
   "version": "3.9.0"
  }
 },
 "nbformat": 4,
 "nbformat_minor": 4
}
